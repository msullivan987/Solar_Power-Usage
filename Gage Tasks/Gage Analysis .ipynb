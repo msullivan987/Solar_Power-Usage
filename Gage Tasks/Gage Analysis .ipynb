{
 "cells": [
  {
   "cell_type": "code",
   "execution_count": 373,
   "metadata": {},
   "outputs": [],
   "source": [
    "# Dependencies and Setup\n",
    "import matplotlib.pyplot as plt\n",
    "import pandas as pd\n",
    "import scipy.stats as st\n",
    "import numpy as np\n",
    "from scipy.stats import linregress\n",
    "\n",
    "# Data file paths\n",
    "energy_data_path = \"Resources/energy_data_state.csv\"\n",
    "\n",
    "# Read the mouse data and the study results\n",
    "energy_data = pd.read_csv(energy_data_path)\n",
    "\n",
    "energy_data = energy_data.drop(energy_data.index[[0,1]])"
   ]
  },
  {
   "cell_type": "code",
   "execution_count": 374,
   "metadata": {},
   "outputs": [
    {
     "data": {
      "text/html": [
       "<div>\n",
       "<style scoped>\n",
       "    .dataframe tbody tr th:only-of-type {\n",
       "        vertical-align: middle;\n",
       "    }\n",
       "\n",
       "    .dataframe tbody tr th {\n",
       "        vertical-align: top;\n",
       "    }\n",
       "\n",
       "    .dataframe thead th {\n",
       "        text-align: right;\n",
       "    }\n",
       "</style>\n",
       "<table border=\"1\" class=\"dataframe\">\n",
       "  <thead>\n",
       "    <tr style=\"text-align: right;\">\n",
       "      <th></th>\n",
       "      <th>YEAR</th>\n",
       "      <th>STATE</th>\n",
       "      <th>TYPE OF PRODUCER</th>\n",
       "      <th>ENERGY SOURCE</th>\n",
       "      <th>GENERATION (Megawatthours)</th>\n",
       "    </tr>\n",
       "  </thead>\n",
       "  <tbody>\n",
       "    <tr>\n",
       "      <th>2</th>\n",
       "      <td>1990</td>\n",
       "      <td>AK</td>\n",
       "      <td>Total Electric Power Industry</td>\n",
       "      <td>Hydroelectric Conventional</td>\n",
       "      <td>974,521</td>\n",
       "    </tr>\n",
       "    <tr>\n",
       "      <th>3</th>\n",
       "      <td>1990</td>\n",
       "      <td>AK</td>\n",
       "      <td>Total Electric Power Industry</td>\n",
       "      <td>Natural Gas</td>\n",
       "      <td>3,466,261</td>\n",
       "    </tr>\n",
       "    <tr>\n",
       "      <th>4</th>\n",
       "      <td>1990</td>\n",
       "      <td>AK</td>\n",
       "      <td>Total Electric Power Industry</td>\n",
       "      <td>Petroleum</td>\n",
       "      <td>497,116</td>\n",
       "    </tr>\n",
       "    <tr>\n",
       "      <th>5</th>\n",
       "      <td>1990</td>\n",
       "      <td>AK</td>\n",
       "      <td>Total Electric Power Industry</td>\n",
       "      <td>Wind</td>\n",
       "      <td>0</td>\n",
       "    </tr>\n",
       "    <tr>\n",
       "      <th>6</th>\n",
       "      <td>1990</td>\n",
       "      <td>AK</td>\n",
       "      <td>Total Electric Power Industry</td>\n",
       "      <td>Wood and Wood Derived Fuels</td>\n",
       "      <td>151,035</td>\n",
       "    </tr>\n",
       "  </tbody>\n",
       "</table>\n",
       "</div>"
      ],
      "text/plain": [
       "   YEAR STATE               TYPE OF PRODUCER                ENERGY SOURCE  \\\n",
       "2  1990    AK  Total Electric Power Industry   Hydroelectric Conventional   \n",
       "3  1990    AK  Total Electric Power Industry                  Natural Gas   \n",
       "4  1990    AK  Total Electric Power Industry                    Petroleum   \n",
       "5  1990    AK  Total Electric Power Industry                         Wind   \n",
       "6  1990    AK  Total Electric Power Industry  Wood and Wood Derived Fuels   \n",
       "\n",
       "  GENERATION (Megawatthours)  \n",
       "2                    974,521  \n",
       "3                  3,466,261  \n",
       "4                    497,116  \n",
       "5                          0  \n",
       "6                    151,035  "
      ]
     },
     "execution_count": 374,
     "metadata": {},
     "output_type": "execute_result"
    }
   ],
   "source": [
    "energy_data.head()"
   ]
  },
  {
   "cell_type": "code",
   "execution_count": 375,
   "metadata": {},
   "outputs": [
    {
     "data": {
      "text/plain": [
       "YEAR                           int64\n",
       "STATE                         object\n",
       "TYPE OF PRODUCER              object\n",
       "ENERGY SOURCE                 object\n",
       "GENERATION (Megawatthours)    object\n",
       "dtype: object"
      ]
     },
     "execution_count": 375,
     "metadata": {},
     "output_type": "execute_result"
    }
   ],
   "source": [
    "# Data types\n",
    "energy_data.dtypes"
   ]
  },
  {
   "cell_type": "code",
   "execution_count": 376,
   "metadata": {},
   "outputs": [
    {
     "data": {
      "text/html": [
       "<div>\n",
       "<style scoped>\n",
       "    .dataframe tbody tr th:only-of-type {\n",
       "        vertical-align: middle;\n",
       "    }\n",
       "\n",
       "    .dataframe tbody tr th {\n",
       "        vertical-align: top;\n",
       "    }\n",
       "\n",
       "    .dataframe thead th {\n",
       "        text-align: right;\n",
       "    }\n",
       "</style>\n",
       "<table border=\"1\" class=\"dataframe\">\n",
       "  <thead>\n",
       "    <tr style=\"text-align: right;\">\n",
       "      <th></th>\n",
       "      <th>Year</th>\n",
       "      <th>State</th>\n",
       "      <th>Type of Producer</th>\n",
       "      <th>Energy Source</th>\n",
       "      <th>Megawatt Hours</th>\n",
       "    </tr>\n",
       "  </thead>\n",
       "  <tbody>\n",
       "    <tr>\n",
       "      <th>2</th>\n",
       "      <td>1990</td>\n",
       "      <td>AK</td>\n",
       "      <td>Total Electric Power Industry</td>\n",
       "      <td>Hydroelectric Conventional</td>\n",
       "      <td>974,521</td>\n",
       "    </tr>\n",
       "    <tr>\n",
       "      <th>3</th>\n",
       "      <td>1990</td>\n",
       "      <td>AK</td>\n",
       "      <td>Total Electric Power Industry</td>\n",
       "      <td>Natural Gas</td>\n",
       "      <td>3,466,261</td>\n",
       "    </tr>\n",
       "    <tr>\n",
       "      <th>4</th>\n",
       "      <td>1990</td>\n",
       "      <td>AK</td>\n",
       "      <td>Total Electric Power Industry</td>\n",
       "      <td>Petroleum</td>\n",
       "      <td>497,116</td>\n",
       "    </tr>\n",
       "    <tr>\n",
       "      <th>5</th>\n",
       "      <td>1990</td>\n",
       "      <td>AK</td>\n",
       "      <td>Total Electric Power Industry</td>\n",
       "      <td>Wind</td>\n",
       "      <td>0</td>\n",
       "    </tr>\n",
       "    <tr>\n",
       "      <th>6</th>\n",
       "      <td>1990</td>\n",
       "      <td>AK</td>\n",
       "      <td>Total Electric Power Industry</td>\n",
       "      <td>Wood and Wood Derived Fuels</td>\n",
       "      <td>151,035</td>\n",
       "    </tr>\n",
       "  </tbody>\n",
       "</table>\n",
       "</div>"
      ],
      "text/plain": [
       "   Year State               Type of Producer                Energy Source  \\\n",
       "2  1990    AK  Total Electric Power Industry   Hydroelectric Conventional   \n",
       "3  1990    AK  Total Electric Power Industry                  Natural Gas   \n",
       "4  1990    AK  Total Electric Power Industry                    Petroleum   \n",
       "5  1990    AK  Total Electric Power Industry                         Wind   \n",
       "6  1990    AK  Total Electric Power Industry  Wood and Wood Derived Fuels   \n",
       "\n",
       "  Megawatt Hours  \n",
       "2        974,521  \n",
       "3      3,466,261  \n",
       "4        497,116  \n",
       "5              0  \n",
       "6        151,035  "
      ]
     },
     "execution_count": 376,
     "metadata": {},
     "output_type": "execute_result"
    }
   ],
   "source": [
    "# Cleaning up the column names\n",
    "energy_data = energy_data.rename(columns={\n",
    "    \"YEAR\":\"Year\",\n",
    "    \"STATE\": \"State\",\n",
    "    \"TYPE OF PRODUCER\":\"Type of Producer\",\n",
    "    \"ENERGY SOURCE\":\"Energy Source\",\n",
    "    \"GENERATION (Megawatthours)\":\"Megawatt Hours\"\n",
    "    })\n",
    "energy_data.head()"
   ]
  },
  {
   "cell_type": "code",
   "execution_count": 377,
   "metadata": {},
   "outputs": [
    {
     "data": {
      "text/plain": [
       "array(['Hydroelectric Conventional', 'Natural Gas', 'Petroleum', 'Wind',\n",
       "       'Wood and Wood Derived Fuels', 'Total', 'Coal', 'Nuclear',\n",
       "       'Other Biomass', 'Other Gases', 'Pumped Storage', 'Geothermal',\n",
       "       'Other', 'Solar Thermal and Photovoltaic'], dtype=object)"
      ]
     },
     "execution_count": 377,
     "metadata": {},
     "output_type": "execute_result"
    }
   ],
   "source": [
    "# Seeing all unique types of energy sources in our data\n",
    "unique_energy_sources = energy_data[\"Energy Source\"].unique()\n",
    "unique_energy_sources"
   ]
  },
  {
   "cell_type": "code",
   "execution_count": 378,
   "metadata": {},
   "outputs": [],
   "source": [
    "# Getting rid of commas in the entire data set\n",
    "energy_data[\"Megawatt Hours\"] = energy_data[\"Megawatt Hours\"].apply(lambda x: int(x.split()[0].replace(',', '')))"
   ]
  },
  {
   "cell_type": "code",
   "execution_count": 379,
   "metadata": {},
   "outputs": [
    {
     "data": {
      "text/html": [
       "<div>\n",
       "<style scoped>\n",
       "    .dataframe tbody tr th:only-of-type {\n",
       "        vertical-align: middle;\n",
       "    }\n",
       "\n",
       "    .dataframe tbody tr th {\n",
       "        vertical-align: top;\n",
       "    }\n",
       "\n",
       "    .dataframe thead th {\n",
       "        text-align: right;\n",
       "    }\n",
       "</style>\n",
       "<table border=\"1\" class=\"dataframe\">\n",
       "  <thead>\n",
       "    <tr style=\"text-align: right;\">\n",
       "      <th></th>\n",
       "      <th>Year</th>\n",
       "      <th>State</th>\n",
       "      <th>Type of Producer</th>\n",
       "      <th>Energy Source</th>\n",
       "      <th>Megawatt Hours</th>\n",
       "    </tr>\n",
       "  </thead>\n",
       "  <tbody>\n",
       "    <tr>\n",
       "      <th>7</th>\n",
       "      <td>1990</td>\n",
       "      <td>AK</td>\n",
       "      <td>Electric Generators, Electric Utilities</td>\n",
       "      <td>Total</td>\n",
       "      <td>4493024</td>\n",
       "    </tr>\n",
       "    <tr>\n",
       "      <th>13</th>\n",
       "      <td>1990</td>\n",
       "      <td>AK</td>\n",
       "      <td>Combined Heat and Power, Industrial Power</td>\n",
       "      <td>Total</td>\n",
       "      <td>840949</td>\n",
       "    </tr>\n",
       "    <tr>\n",
       "      <th>17</th>\n",
       "      <td>1990</td>\n",
       "      <td>AK</td>\n",
       "      <td>Combined Heat and Power, Commercial Power</td>\n",
       "      <td>Total</td>\n",
       "      <td>265533</td>\n",
       "    </tr>\n",
       "    <tr>\n",
       "      <th>20</th>\n",
       "      <td>1990</td>\n",
       "      <td>AL</td>\n",
       "      <td>Total Electric Power Industry</td>\n",
       "      <td>Total</td>\n",
       "      <td>79652133</td>\n",
       "    </tr>\n",
       "    <tr>\n",
       "      <th>29</th>\n",
       "      <td>1990</td>\n",
       "      <td>AL</td>\n",
       "      <td>Electric Generators, Independent Power Producers</td>\n",
       "      <td>Total</td>\n",
       "      <td>27936</td>\n",
       "    </tr>\n",
       "    <tr>\n",
       "      <th>...</th>\n",
       "      <td>...</td>\n",
       "      <td>...</td>\n",
       "      <td>...</td>\n",
       "      <td>...</td>\n",
       "      <td>...</td>\n",
       "    </tr>\n",
       "    <tr>\n",
       "      <th>53723</th>\n",
       "      <td>2019</td>\n",
       "      <td>WV</td>\n",
       "      <td>Electric Generators, Electric Utilities</td>\n",
       "      <td>Total</td>\n",
       "      <td>48312222</td>\n",
       "    </tr>\n",
       "    <tr>\n",
       "      <th>53729</th>\n",
       "      <td>2019</td>\n",
       "      <td>WY</td>\n",
       "      <td>Total Electric Power Industry</td>\n",
       "      <td>Total</td>\n",
       "      <td>42145656</td>\n",
       "    </tr>\n",
       "    <tr>\n",
       "      <th>53738</th>\n",
       "      <td>2019</td>\n",
       "      <td>WY</td>\n",
       "      <td>Combined Heat and Power, Industrial Power</td>\n",
       "      <td>Total</td>\n",
       "      <td>1338019</td>\n",
       "    </tr>\n",
       "    <tr>\n",
       "      <th>53744</th>\n",
       "      <td>2019</td>\n",
       "      <td>WY</td>\n",
       "      <td>Electric Generators, Independent Power Producers</td>\n",
       "      <td>Total</td>\n",
       "      <td>3200898</td>\n",
       "    </tr>\n",
       "    <tr>\n",
       "      <th>53750</th>\n",
       "      <td>2019</td>\n",
       "      <td>WY</td>\n",
       "      <td>Electric Generators, Electric Utilities</td>\n",
       "      <td>Total</td>\n",
       "      <td>37606739</td>\n",
       "    </tr>\n",
       "  </tbody>\n",
       "</table>\n",
       "<p>8338 rows × 5 columns</p>\n",
       "</div>"
      ],
      "text/plain": [
       "       Year State                                  Type of Producer  \\\n",
       "7      1990    AK           Electric Generators, Electric Utilities   \n",
       "13     1990    AK         Combined Heat and Power, Industrial Power   \n",
       "17     1990    AK         Combined Heat and Power, Commercial Power   \n",
       "20     1990    AL                     Total Electric Power Industry   \n",
       "29     1990    AL  Electric Generators, Independent Power Producers   \n",
       "...     ...   ...                                               ...   \n",
       "53723  2019    WV           Electric Generators, Electric Utilities   \n",
       "53729  2019    WY                     Total Electric Power Industry   \n",
       "53738  2019    WY         Combined Heat and Power, Industrial Power   \n",
       "53744  2019    WY  Electric Generators, Independent Power Producers   \n",
       "53750  2019    WY           Electric Generators, Electric Utilities   \n",
       "\n",
       "      Energy Source  Megawatt Hours  \n",
       "7             Total         4493024  \n",
       "13            Total          840949  \n",
       "17            Total          265533  \n",
       "20            Total        79652133  \n",
       "29            Total           27936  \n",
       "...             ...             ...  \n",
       "53723         Total        48312222  \n",
       "53729         Total        42145656  \n",
       "53738         Total         1338019  \n",
       "53744         Total         3200898  \n",
       "53750         Total        37606739  \n",
       "\n",
       "[8338 rows x 5 columns]"
      ]
     },
     "execution_count": 379,
     "metadata": {},
     "output_type": "execute_result"
    }
   ],
   "source": [
    "# Creating national data frame bt totals\n",
    "national_total = energy_data.loc[energy_data[\"Energy Source\"] == \"Total\", :]\n",
    "national_total"
   ]
  },
  {
   "cell_type": "code",
   "execution_count": 380,
   "metadata": {},
   "outputs": [
    {
     "data": {
      "text/plain": [
       "Year                 int64\n",
       "State               object\n",
       "Type of Producer    object\n",
       "Energy Source       object\n",
       "Megawatt Hours       int64\n",
       "dtype: object"
      ]
     },
     "execution_count": 380,
     "metadata": {},
     "output_type": "execute_result"
    }
   ],
   "source": [
    "national_total.dtypes"
   ]
  },
  {
   "cell_type": "code",
   "execution_count": 10,
   "metadata": {},
   "outputs": [],
   "source": [
    "# Changing to int\n",
    "#df['purchase'].astype(str).astype(int)\n",
    "#df[\"a\"] = df[\"a\"].astype(str).astype(int)\n",
    "energy_data[\"Megawatt Hours\"] = energy_data[\"Megawatt Hours\"].astype(np.int64)"
   ]
  },
  {
   "cell_type": "code",
   "execution_count": 11,
   "metadata": {},
   "outputs": [
    {
     "data": {
      "text/plain": [
       "Year                 int64\n",
       "State               object\n",
       "Type of Producer    object\n",
       "Energy Source       object\n",
       "Megawatt Hours       int64\n",
       "dtype: object"
      ]
     },
     "execution_count": 11,
     "metadata": {},
     "output_type": "execute_result"
    }
   ],
   "source": [
    "energy_data.dtypes"
   ]
  },
  {
   "cell_type": "code",
   "execution_count": 13,
   "metadata": {},
   "outputs": [
    {
     "data": {
      "text/plain": [
       "16931678.7898575"
      ]
     },
     "execution_count": 13,
     "metadata": {},
     "output_type": "execute_result"
    }
   ],
   "source": [
    "energy_data[\"Megawatt Hours\"].mean()"
   ]
  },
  {
   "cell_type": "code",
   "execution_count": 15,
   "metadata": {},
   "outputs": [
    {
     "data": {
      "text/plain": [
       "455070186352"
      ]
     },
     "execution_count": 15,
     "metadata": {},
     "output_type": "execute_result"
    }
   ],
   "source": [
    "# Sum of total energy (Needed for finding %)\n",
    "national_total_sum = national_total[\"Megawatt Hours\"].sum()\n",
    "national_total_sum"
   ]
  },
  {
   "cell_type": "code",
   "execution_count": 387,
   "metadata": {},
   "outputs": [
    {
     "data": {
      "text/plain": [
       "count    8.338000e+03\n",
       "mean     5.457786e+07\n",
       "std      2.858444e+08\n",
       "min     -2.063080e+05\n",
       "25%      3.740448e+05\n",
       "50%      4.136522e+06\n",
       "75%      4.019896e+07\n",
       "max      4.178277e+09\n",
       "Name: Megawatt Hours, dtype: float64"
      ]
     },
     "execution_count": 387,
     "metadata": {},
     "output_type": "execute_result"
    }
   ],
   "source": [
    "national_total[\"Megawatt Hours\"].describe()"
   ]
  },
  {
   "cell_type": "code",
   "execution_count": 17,
   "metadata": {},
   "outputs": [],
   "source": [
    "# Remove total\n",
    "cleaned_df = energy_data[energy_data[\"Energy Source\"] != \"Total\"]"
   ]
  },
  {
   "cell_type": "code",
   "execution_count": 18,
   "metadata": {},
   "outputs": [
    {
     "data": {
      "text/html": [
       "<div>\n",
       "<style scoped>\n",
       "    .dataframe tbody tr th:only-of-type {\n",
       "        vertical-align: middle;\n",
       "    }\n",
       "\n",
       "    .dataframe tbody tr th {\n",
       "        vertical-align: top;\n",
       "    }\n",
       "\n",
       "    .dataframe thead th {\n",
       "        text-align: right;\n",
       "    }\n",
       "</style>\n",
       "<table border=\"1\" class=\"dataframe\">\n",
       "  <thead>\n",
       "    <tr style=\"text-align: right;\">\n",
       "      <th></th>\n",
       "      <th>Year</th>\n",
       "      <th>State</th>\n",
       "      <th>Type of Producer</th>\n",
       "      <th>Energy Source</th>\n",
       "      <th>Megawatt Hours</th>\n",
       "    </tr>\n",
       "  </thead>\n",
       "  <tbody>\n",
       "    <tr>\n",
       "      <th>109</th>\n",
       "      <td>1990</td>\n",
       "      <td>CA</td>\n",
       "      <td>Total Electric Power Industry</td>\n",
       "      <td>Solar Thermal and Photovoltaic</td>\n",
       "      <td>366668</td>\n",
       "    </tr>\n",
       "    <tr>\n",
       "      <th>120</th>\n",
       "      <td>1990</td>\n",
       "      <td>CA</td>\n",
       "      <td>Electric Generators, Independent Power Producers</td>\n",
       "      <td>Solar Thermal and Photovoltaic</td>\n",
       "      <td>364639</td>\n",
       "    </tr>\n",
       "    <tr>\n",
       "      <th>131</th>\n",
       "      <td>1990</td>\n",
       "      <td>CA</td>\n",
       "      <td>Electric Generators, Electric Utilities</td>\n",
       "      <td>Solar Thermal and Photovoltaic</td>\n",
       "      <td>2029</td>\n",
       "    </tr>\n",
       "    <tr>\n",
       "      <th>1160</th>\n",
       "      <td>1990</td>\n",
       "      <td>TX</td>\n",
       "      <td>Total Electric Power Industry</td>\n",
       "      <td>Solar Thermal and Photovoltaic</td>\n",
       "      <td>385</td>\n",
       "    </tr>\n",
       "    <tr>\n",
       "      <th>1171</th>\n",
       "      <td>1990</td>\n",
       "      <td>TX</td>\n",
       "      <td>Electric Generators, Electric Utilities</td>\n",
       "      <td>Solar Thermal and Photovoltaic</td>\n",
       "      <td>385</td>\n",
       "    </tr>\n",
       "    <tr>\n",
       "      <th>...</th>\n",
       "      <td>...</td>\n",
       "      <td>...</td>\n",
       "      <td>...</td>\n",
       "      <td>...</td>\n",
       "      <td>...</td>\n",
       "    </tr>\n",
       "    <tr>\n",
       "      <th>53657</th>\n",
       "      <td>2019</td>\n",
       "      <td>WI</td>\n",
       "      <td>Total Electric Power Industry</td>\n",
       "      <td>Solar Thermal and Photovoltaic</td>\n",
       "      <td>37892</td>\n",
       "    </tr>\n",
       "    <tr>\n",
       "      <th>53674</th>\n",
       "      <td>2019</td>\n",
       "      <td>WI</td>\n",
       "      <td>Combined Heat and Power, Commercial Power</td>\n",
       "      <td>Solar Thermal and Photovoltaic</td>\n",
       "      <td>2119</td>\n",
       "    </tr>\n",
       "    <tr>\n",
       "      <th>53687</th>\n",
       "      <td>2019</td>\n",
       "      <td>WI</td>\n",
       "      <td>Electric Generators, Independent Power Producers</td>\n",
       "      <td>Solar Thermal and Photovoltaic</td>\n",
       "      <td>35773</td>\n",
       "    </tr>\n",
       "    <tr>\n",
       "      <th>53736</th>\n",
       "      <td>2019</td>\n",
       "      <td>WY</td>\n",
       "      <td>Total Electric Power Industry</td>\n",
       "      <td>Solar Thermal and Photovoltaic</td>\n",
       "      <td>180138</td>\n",
       "    </tr>\n",
       "    <tr>\n",
       "      <th>53748</th>\n",
       "      <td>2019</td>\n",
       "      <td>WY</td>\n",
       "      <td>Electric Generators, Independent Power Producers</td>\n",
       "      <td>Solar Thermal and Photovoltaic</td>\n",
       "      <td>180138</td>\n",
       "    </tr>\n",
       "  </tbody>\n",
       "</table>\n",
       "<p>1367 rows × 5 columns</p>\n",
       "</div>"
      ],
      "text/plain": [
       "       Year State                                  Type of Producer  \\\n",
       "109    1990    CA                     Total Electric Power Industry   \n",
       "120    1990    CA  Electric Generators, Independent Power Producers   \n",
       "131    1990    CA           Electric Generators, Electric Utilities   \n",
       "1160   1990    TX                     Total Electric Power Industry   \n",
       "1171   1990    TX           Electric Generators, Electric Utilities   \n",
       "...     ...   ...                                               ...   \n",
       "53657  2019    WI                     Total Electric Power Industry   \n",
       "53674  2019    WI         Combined Heat and Power, Commercial Power   \n",
       "53687  2019    WI  Electric Generators, Independent Power Producers   \n",
       "53736  2019    WY                     Total Electric Power Industry   \n",
       "53748  2019    WY  Electric Generators, Independent Power Producers   \n",
       "\n",
       "                        Energy Source  Megawatt Hours  \n",
       "109    Solar Thermal and Photovoltaic          366668  \n",
       "120    Solar Thermal and Photovoltaic          364639  \n",
       "131    Solar Thermal and Photovoltaic            2029  \n",
       "1160   Solar Thermal and Photovoltaic             385  \n",
       "1171   Solar Thermal and Photovoltaic             385  \n",
       "...                               ...             ...  \n",
       "53657  Solar Thermal and Photovoltaic           37892  \n",
       "53674  Solar Thermal and Photovoltaic            2119  \n",
       "53687  Solar Thermal and Photovoltaic           35773  \n",
       "53736  Solar Thermal and Photovoltaic          180138  \n",
       "53748  Solar Thermal and Photovoltaic          180138  \n",
       "\n",
       "[1367 rows x 5 columns]"
      ]
     },
     "execution_count": 18,
     "metadata": {},
     "output_type": "execute_result"
    }
   ],
   "source": [
    "# Creating a data frame with the total amount of Solar energy \n",
    "national_solar_power = energy_data.loc[energy_data[\"Energy Source\"] == \"Solar Thermal and Photovoltaic\", :]\n",
    "national_solar_power\n"
   ]
  },
  {
   "cell_type": "code",
   "execution_count": 19,
   "metadata": {},
   "outputs": [
    {
     "data": {
      "text/plain": [
       "1179675810"
      ]
     },
     "execution_count": 19,
     "metadata": {},
     "output_type": "execute_result"
    }
   ],
   "source": [
    "# Sum of solar power \n",
    "solar_sum = national_solar_power[\"Megawatt Hours\"].sum()\n",
    "solar_sum"
   ]
  },
  {
   "cell_type": "code",
   "execution_count": 381,
   "metadata": {},
   "outputs": [
    {
     "data": {
      "text/plain": [
       "0.25922942117054276"
      ]
     },
     "execution_count": 381,
     "metadata": {},
     "output_type": "execute_result"
    }
   ],
   "source": [
    "# Percentage of solar power\n",
    "percentage_solar = (solar_sum/national_total_sum)*100\n",
    "percentage_solar\n"
   ]
  },
  {
   "cell_type": "code",
   "execution_count": 30,
   "metadata": {},
   "outputs": [
    {
     "data": {
      "text/plain": [
       "203908261635"
      ]
     },
     "execution_count": 30,
     "metadata": {},
     "output_type": "execute_result"
    }
   ],
   "source": [
    "# df and sum of coal\n",
    "national_coal = energy_data.loc[energy_data[\"Energy Source\"] == \"Coal\", :]\n",
    "coal_sum = national_coal[\"Megawatt Hours\"].sum()\n",
    "coal_sum"
   ]
  },
  {
   "cell_type": "code",
   "execution_count": 345,
   "metadata": {},
   "outputs": [
    {
     "data": {
      "text/plain": [
       "249982248907"
      ]
     },
     "execution_count": 345,
     "metadata": {},
     "output_type": "execute_result"
    }
   ],
   "source": [
    "# For Pie chart, subtracting coal and solar from total output\n",
    "total_minus_coal_solar = 455070186352 - 1179675810 - 203908261635\n",
    "total_minus_coal_solar"
   ]
  },
  {
   "cell_type": "code",
   "execution_count": 433,
   "metadata": {},
   "outputs": [],
   "source": [
    "# Formating pie\n",
    "energy = [\"Coal\",\"Solar\", 'All Other Energy Types']\n",
    "values = [203908261635,1179675810,249982248907]\n",
    "colors = [\"plum\",\"red\", \"skyblue\"]\n",
    "explode = (0.0, 0.0,0.07)"
   ]
  },
  {
   "cell_type": "code",
   "execution_count": 436,
   "metadata": {},
   "outputs": [
    {
     "data": {
      "image/png": "[encoded data removed]",
      "text/plain": [
       "<Figure size 432x288 with 1 Axes>"
      ]
     },
     "metadata": {},
     "output_type": "display_data"
    }
   ],
   "source": [
    "# Displaying our pie char\n",
    "plt.title(\"Total National Energy Production: Coal vs All Energy Sources (MWh)\")\n",
    "plt.pie(values, explode=explode, labels=energy, colors=colors,\n",
    "        autopct=\"%1.1f%%\", shadow=True, startangle=150)\n",
    "plt.axis(\"equal\")\n",
    "plt.savefig('national_energy_production_Coal_vs_all.png')\n",
    "plt.show()"
   ]
  },
  {
   "cell_type": "code",
   "execution_count": 47,
   "metadata": {},
   "outputs": [
    {
     "data": {
      "text/plain": [
       "array(['Hydroelectric Conventional', 'Natural Gas', 'Petroleum', 'Wind',\n",
       "       'Wood and Wood Derived Fuels', 'Total', 'Coal', 'Nuclear',\n",
       "       'Other Biomass', 'Other Gases', 'Pumped Storage', 'Geothermal',\n",
       "       'Other', 'Solar Thermal and Photovoltaic'], dtype=object)"
      ]
     },
     "execution_count": 47,
     "metadata": {},
     "output_type": "execute_result"
    }
   ],
   "source": [
    "# Seeing column names again\n",
    "unique_energy_sources"
   ]
  },
  {
   "cell_type": "code",
   "execution_count": 48,
   "metadata": {},
   "outputs": [
    {
     "data": {
      "text/plain": [
       "33802723567"
      ]
     },
     "execution_count": 48,
     "metadata": {},
     "output_type": "execute_result"
    }
   ],
   "source": [
    "# hdro df and sum\n",
    "national_hydro = energy_data.loc[energy_data[\"Energy Source\"] == \"Hydroelectric Conventional\", :]\n",
    "hydro_sum = national_hydro[\"Megawatt Hours\"].sum()\n",
    "hydro_sum"
   ]
  },
  {
   "cell_type": "code",
   "execution_count": 49,
   "metadata": {},
   "outputs": [
    {
     "data": {
      "text/plain": [
       "98650560015"
      ]
     },
     "execution_count": 49,
     "metadata": {},
     "output_type": "execute_result"
    }
   ],
   "source": [
    "# Gas df and sum\n",
    "national_natural_gas = energy_data.loc[energy_data[\"Energy Source\"] == \"Natural Gas\", :]\n",
    "natural_gas_sum = national_natural_gas[\"Megawatt Hours\"].sum()\n",
    "natural_gas_sum"
   ]
  },
  {
   "cell_type": "code",
   "execution_count": 413,
   "metadata": {},
   "outputs": [
    {
     "data": {
      "text/plain": [
       "8937205980"
      ]
     },
     "execution_count": 413,
     "metadata": {},
     "output_type": "execute_result"
    }
   ],
   "source": [
    "national_petroleum = energy_data.loc[energy_data[\"Energy Source\"] == \"Petroleum\", :]\n",
    "petroleum_sum = national_petroleum[\"Megawatt Hours\"].sum()\n",
    "petroleum_sum"
   ]
  },
  {
   "cell_type": "code",
   "execution_count": 51,
   "metadata": {
    "scrolled": true
   },
   "outputs": [
    {
     "data": {
      "text/plain": [
       "8932512616"
      ]
     },
     "execution_count": 51,
     "metadata": {},
     "output_type": "execute_result"
    }
   ],
   "source": [
    "national_wind = energy_data.loc[energy_data[\"Energy Source\"] == \"Wind\", :]\n",
    "wind_sum = national_wind[\"Megawatt Hours\"].sum()\n",
    "wind_sum"
   ]
  },
  {
   "cell_type": "code",
   "execution_count": 52,
   "metadata": {},
   "outputs": [
    {
     "data": {
      "text/plain": [
       "4549361489"
      ]
     },
     "execution_count": 52,
     "metadata": {},
     "output_type": "execute_result"
    }
   ],
   "source": [
    "national_wood = energy_data.loc[energy_data[\"Energy Source\"] == \"Wood and Wood Derived Fuels\", :]\n",
    "wood_sum = national_wood[\"Megawatt Hours\"].sum()\n",
    "wood_sum"
   ]
  },
  {
   "cell_type": "code",
   "execution_count": 53,
   "metadata": {},
   "outputs": [
    {
     "data": {
      "text/plain": [
       "89001615614"
      ]
     },
     "execution_count": 53,
     "metadata": {},
     "output_type": "execute_result"
    }
   ],
   "source": [
    "national_nuclear = energy_data.loc[energy_data[\"Energy Source\"] == \"Nuclear\", :]\n",
    "nuclear_sum = national_nuclear[\"Megawatt Hours\"].sum()\n",
    "nuclear_sum"
   ]
  },
  {
   "cell_type": "code",
   "execution_count": 54,
   "metadata": {},
   "outputs": [
    {
     "data": {
      "text/plain": [
       "2263407622"
      ]
     },
     "execution_count": 54,
     "metadata": {},
     "output_type": "execute_result"
    }
   ],
   "source": [
    "national_other_biomass = energy_data.loc[energy_data[\"Energy Source\"] == \"Other Biomass\", :]\n",
    "other_biomass_sum = national_other_biomass[\"Megawatt Hours\"].sum()\n",
    "other_biomass_sum\n"
   ]
  },
  {
   "cell_type": "code",
   "execution_count": 55,
   "metadata": {},
   "outputs": [
    {
     "data": {
      "text/plain": [
       "1533194421"
      ]
     },
     "execution_count": 55,
     "metadata": {},
     "output_type": "execute_result"
    }
   ],
   "source": [
    "national_other_gases = energy_data.loc[energy_data[\"Energy Source\"] == \"Other Gases\", :]\n",
    "other_gases_sum = national_other_gases[\"Megawatt Hours\"].sum()\n",
    "other_gases_sum\n"
   ]
  },
  {
   "cell_type": "code",
   "execution_count": 56,
   "metadata": {},
   "outputs": [
    {
     "data": {
      "text/plain": [
       "-673106064"
      ]
     },
     "execution_count": 56,
     "metadata": {},
     "output_type": "execute_result"
    }
   ],
   "source": [
    "# Weird that it's a negative number\n",
    "national_pumped_storage = energy_data.loc[energy_data[\"Energy Source\"] == \"Pumped Storage\", :]\n",
    "pumped_storage_sum = national_pumped_storage[\"Megawatt Hours\"].sum()\n",
    "pumped_storage_sum\n"
   ]
  },
  {
   "cell_type": "code",
   "execution_count": 58,
   "metadata": {},
   "outputs": [
    {
     "data": {
      "text/plain": [
       "1816247188"
      ]
     },
     "execution_count": 58,
     "metadata": {},
     "output_type": "execute_result"
    }
   ],
   "source": [
    "national_geothermal = energy_data.loc[energy_data[\"Energy Source\"] == \"Geothermal\", :]\n",
    "geothermal_sum = national_geothermal[\"Megawatt Hours\"].sum()\n",
    "geothermal_sum\n",
    "\n"
   ]
  },
  {
   "cell_type": "code",
   "execution_count": 59,
   "metadata": {},
   "outputs": [
    {
     "data": {
      "text/plain": [
       "1173615425"
      ]
     },
     "execution_count": 59,
     "metadata": {},
     "output_type": "execute_result"
    }
   ],
   "source": [
    "national_other = energy_data.loc[energy_data[\"Energy Source\"] == \"Other\", :]\n",
    "other_sum = national_other[\"Megawatt Hours\"].sum()\n",
    "other_sum"
   ]
  },
  {
   "cell_type": "code",
   "execution_count": 125,
   "metadata": {},
   "outputs": [],
   "source": [
    "# Formating pie chart \n",
    "energy = ['Hydroelectric', 'Natural Gas', 'Petroleum', 'Wind',\n",
    "       'Wood Derived Fuels', 'Coal', 'Nuclear',\n",
    "       'Other Biomass', 'Other Gases', 'Pumped Storage', 'Geothermal',\n",
    "       'Other', 'Solar']\n",
    "values = [33802723567, 98650560015, 8937205980, 8932512616, 4549361489, 203908261635, 89001615614, 2263407622, \n",
    "         1533194421, -673106064, 1816247188,1173615425, 1179675810]\n",
    "colors = [\"slategrey\", 'forestgreen', 'bisque', 'black', 'blue', 'wheat', 'lightcoral', 'gold', 'cyan', 'violet'\n",
    "          , 'peru', 'pink', 'red']\n",
    "explode = (0.05,0.05,0.05,0.05,0.05,0.05,0,    0,0.5,1,1.5,2,2.5   )"
   ]
  },
  {
   "cell_type": "code",
   "execution_count": 130,
   "metadata": {},
   "outputs": [
    {
     "data": {
      "image/png": "[encoded data removed]",
      "text/plain": [
       "<Figure size 432x288 with 1 Axes>"
      ]
     },
     "metadata": {},
     "output_type": "display_data"
    }
   ],
   "source": [
    "# Displaying pie, too messy\n",
    "plt.title(\"National Energy Production\")\n",
    "plt.pie(values, explode=explode, labels=energy, colors=colors,\n",
    "        autopct=\"%1.1f%%\", shadow=True, radius=1.0,startangle=150)\n",
    "\n",
    "#draw circle\n",
    "centre_circle = plt.Circle((0,0),0.70,fc='white')\n",
    "fig = plt.gcf()\n",
    "fig.gca().add_artist(centre_circle)\n",
    "\n",
    "\n",
    "                     \n",
    "plt.axis(\"equal\")\n",
    "plt.tight_layout()\n",
    "plt.show()"
   ]
  },
  {
   "cell_type": "code",
   "execution_count": 129,
   "metadata": {},
   "outputs": [
    {
     "data": {
      "text/plain": [
       "6113358592"
      ]
     },
     "execution_count": 129,
     "metadata": {},
     "output_type": "execute_result"
    }
   ],
   "source": [
    "# combine other biomass, other gases, pumped storage, other b/c percentages are so small\n",
    "energy_sources_added = 2263407622 + 1533194421 -673106064 +1816247188 +1173615425\n",
    "energy_sources_added"
   ]
  },
  {
   "cell_type": "code",
   "execution_count": 426,
   "metadata": {},
   "outputs": [],
   "source": [
    "# New pie chart with combnined other data\n",
    "energy = ['Hydroelectric','Wind', 'Natural Gas',\n",
    "       'Wood Derived Fuels', 'Coal','Solar', 'Nuclear',\n",
    "       'Other','Petroleum']\n",
    "values = [33802723567,8932512616,98650560015, 4549361489, 203908261635,1179675810,89001615614, 6113358592,8937205980]\n",
    "colors = ['Salmon', 'khaki', 'cadetblue', 'palegreen', 'plum', 'red', 'skyblue','darkgray', 'cornflowerblue']\n",
    "explode = (0.0,0,0,0,0.1,0.10,0,0.0,0.0 )\n",
    "#8937205980"
   ]
  },
  {
   "cell_type": "code",
   "execution_count": 431,
   "metadata": {},
   "outputs": [
    {
     "data": {
      "image/png": "[encoded data removed]",
      "text/plain": [
       "<Figure size 432x288 with 1 Axes>"
      ]
     },
     "metadata": {},
     "output_type": "display_data"
    }
   ],
   "source": [
    "# Displaying pie\n",
    "plt.title(\"Total National Energy Production 1990 to 2019 (MWh)\")\n",
    "plt.pie(values, explode=explode, labels=energy, colors=colors,\n",
    "        autopct=\"%1.1f%%\", pctdistance=.8, labeldistance=1.1, shadow=True, radius=1.0,startangle=30)\n",
    "\n",
    "#draw circle\n",
    "#centre_circle = plt.Circle((0,0),0.70,fc='white')\n",
    "#fig = plt.gcf()\n",
    "#fig.gca().add_artist(centre_circle)\n",
    "\n",
    "\n",
    "                     \n",
    "plt.axis(\"equal\")\n",
    "plt.tight_layout()\n",
    "plt.savefig('national_energy_production.png')\n",
    "plt.show()"
   ]
  },
  {
   "cell_type": "code",
   "execution_count": 388,
   "metadata": {},
   "outputs": [
    {
     "data": {
      "text/html": [
       "<div>\n",
       "<style scoped>\n",
       "    .dataframe tbody tr th:only-of-type {\n",
       "        vertical-align: middle;\n",
       "    }\n",
       "\n",
       "    .dataframe tbody tr th {\n",
       "        vertical-align: top;\n",
       "    }\n",
       "\n",
       "    .dataframe thead th {\n",
       "        text-align: right;\n",
       "    }\n",
       "</style>\n",
       "<table border=\"1\" class=\"dataframe\">\n",
       "  <thead>\n",
       "    <tr style=\"text-align: right;\">\n",
       "      <th></th>\n",
       "      <th>COAL</th>\n",
       "      <th>HYDROELECTRIC CONVENTIONAL</th>\n",
       "      <th>NATURAL GAS</th>\n",
       "      <th>PETROLEUM</th>\n",
       "      <th>WIND</th>\n",
       "      <th>WOOD</th>\n",
       "      <th>NUCLEAR</th>\n",
       "      <th>OTHER BIOMASS</th>\n",
       "      <th>OTHER GASES</th>\n",
       "      <th>PUMPED STORAGE</th>\n",
       "      <th>GEOTHERMAL</th>\n",
       "      <th>OTHER</th>\n",
       "      <th>SOLAR THERMAL AND PHOTOVOLTAIC</th>\n",
       "    </tr>\n",
       "  </thead>\n",
       "  <tbody>\n",
       "    <tr>\n",
       "      <th>0</th>\n",
       "      <td>203908261635</td>\n",
       "      <td>33802723567</td>\n",
       "      <td>98650560015</td>\n",
       "      <td>8937205980</td>\n",
       "      <td>8932512616</td>\n",
       "      <td>4549361489</td>\n",
       "      <td>89001615614</td>\n",
       "      <td>2263407622</td>\n",
       "      <td>1533194421</td>\n",
       "      <td>-673106064</td>\n",
       "      <td>1816247188</td>\n",
       "      <td>1173615425</td>\n",
       "      <td>1179675810</td>\n",
       "    </tr>\n",
       "  </tbody>\n",
       "</table>\n",
       "</div>"
      ],
      "text/plain": [
       "           COAL  HYDROELECTRIC CONVENTIONAL  NATURAL GAS   PETROLEUM  \\\n",
       "0  203908261635                 33802723567  98650560015  8937205980   \n",
       "\n",
       "         WIND        WOOD      NUCLEAR  OTHER BIOMASS  OTHER GASES  \\\n",
       "0  8932512616  4549361489  89001615614     2263407622   1533194421   \n",
       "\n",
       "   PUMPED STORAGE  GEOTHERMAL       OTHER  SOLAR THERMAL AND PHOTOVOLTAIC  \n",
       "0      -673106064  1816247188  1173615425                      1179675810  "
      ]
     },
     "execution_count": 388,
     "metadata": {},
     "output_type": "execute_result"
    }
   ],
   "source": [
    "# Creating a dictionary/df from nicos code\n",
    "my_dict= {\"COAL\": coal_sum, \"HYDROELECTRIC CONVENTIONAL\":hydro_sum, \"NATURAL GAS\": natural_gas_sum, \n",
    "                        \"PETROLEUM\": petroleum_sum, \"WIND\": wind_sum, \"WOOD\": wood_sum, \n",
    "                        \"NUCLEAR\":nuclear_sum, \"OTHER BIOMASS\": other_biomass_sum, \"OTHER GASES\": other_gases_sum, \n",
    "                        \"PUMPED STORAGE\": pumped_storage_sum, \"GEOTHERMAL\": geothermal_sum, \"OTHER\": other_sum, \"SOLAR THERMAL AND PHOTOVOLTAIC\": solar_sum}\n",
    "final_df = pd.DataFrame([my_dict])\n",
    "\n",
    "final_df\n",
    "\n"
   ]
  },
  {
   "cell_type": "code",
   "execution_count": 158,
   "metadata": {},
   "outputs": [
    {
     "name": "stderr",
     "output_type": "stream",
     "text": [
      "C:\\Users\\Gage\\anaconda3\\lib\\site-packages\\pandas\\plotting\\_matplotlib\\__init__.py:61: UserWarning: To output multiple subplots, the figure containing the passed axes is being cleared\n",
      "  plot_obj.generate()\n"
     ]
    },
    {
     "data": {
      "text/plain": [
       "array([<matplotlib.axes._subplots.AxesSubplot object at 0x000001EF24460108>,\n",
       "       <matplotlib.axes._subplots.AxesSubplot object at 0x000001EF28612EC8>,\n",
       "       <matplotlib.axes._subplots.AxesSubplot object at 0x000001EF286B1C88>,\n",
       "       <matplotlib.axes._subplots.AxesSubplot object at 0x000001EF286F4708>,\n",
       "       <matplotlib.axes._subplots.AxesSubplot object at 0x000001EF287361C8>,\n",
       "       <matplotlib.axes._subplots.AxesSubplot object at 0x000001EF28776CC8>,\n",
       "       <matplotlib.axes._subplots.AxesSubplot object at 0x000001EF287B7D88>,\n",
       "       <matplotlib.axes._subplots.AxesSubplot object at 0x000001EF287FE2C8>,\n",
       "       <matplotlib.axes._subplots.AxesSubplot object at 0x000001EF288067C8>,\n",
       "       <matplotlib.axes._subplots.AxesSubplot object at 0x000001EF288550C8>,\n",
       "       <matplotlib.axes._subplots.AxesSubplot object at 0x000001EF288F9688>,\n",
       "       <matplotlib.axes._subplots.AxesSubplot object at 0x000001EF28955B48>],\n",
       "      dtype=object)"
      ]
     },
     "execution_count": 158,
     "metadata": {},
     "output_type": "execute_result"
    }
   ],
   "source": [
    "#final_df.plot.pie()\n",
    "#final_df.plot(kind='pie')\n",
    "#fig = plt.figure(figsize=(6,6), dpi=200)\n",
    "#ax = plt.subplot=true\n",
    "\n",
    "# Cannot get this to work\n",
    "final_df.plot(kind='pie', ax=ax, autopct='%1.1f%%', startangle=270, fontsize=17, subplots=True)"
   ]
  },
  {
   "cell_type": "code",
   "execution_count": null,
   "metadata": {},
   "outputs": [],
   "source": []
  },
  {
   "cell_type": "code",
   "execution_count": null,
   "metadata": {},
   "outputs": [],
   "source": []
  }
 ],
 "metadata": {
  "kernelspec": {
   "display_name": "Python 3",
   "language": "python",
   "name": "python3"
  },
  "language_info": {
   "codemirror_mode": {
    "name": "ipython",
    "version": 3
   },
   "file_extension": ".py",
   "mimetype": "text/x-python",
   "name": "python",
   "nbconvert_exporter": "python",
   "pygments_lexer": "ipython3",
   "version": "3.7.6"
  }
 },
 "nbformat": 4,
 "nbformat_minor": 4
}

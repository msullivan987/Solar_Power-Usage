{
 "cells": [
  {
   "cell_type": "code",
   "execution_count": null,
   "metadata": {},
   "outputs": [],
   "source": [
    "#import dependencies\n",
    "import pandas as pd\n",
    "import numpy as np\n",
    "import os\n",
    "import gmaps\n",
    "import json\n",
    "import requests\n",
    "from pprint import pprint\n",
    "import us\n",
    "\n",
    "#import API key\n",
    "from config_template import gkey, weather_api_key\n",
    "gmaps.configure(api_key=gkey)\n",
    "\n",
    "#output file path for data resource files and figures\n",
    "outputFilePath = os.path.join(\"Output-Data\")"
   ]
  },
  {
   "cell_type": "code",
   "execution_count": null,
   "metadata": {},
   "outputs": [],
   "source": [
    "#mannually imported information from text file online to csv\n",
    "#mannually did some cleaning with the data in excel\n",
    "#we do not know web scraping yet so was unable to utilize that for infomration"
   ]
  },
  {
   "cell_type": "code",
   "execution_count": null,
   "metadata": {},
   "outputs": [],
   "source": [
    "#read the sunshine csv file into a dataframe\n",
    "sunshine_df = pd.read_csv(os.path.join(\"..\",\"potential_data_sets\",\"NOAA_Sunshine_AveragePercentPossible.csv\"))\n",
    "sunshine_df"
   ]
  },
  {
   "cell_type": "code",
   "execution_count": null,
   "metadata": {},
   "outputs": [],
   "source": [
    "#clean up the column names\n",
    "sunshine_df = sunshine_df.rename(columns={\n",
    "    \"CITY\":\"City\",\n",
    "    \"STATE\":\"State\",\n",
    "    \"ANNUAL % AVG POSSIBLE SUNSHINE\":\"Annual % Average Possible Sunshine\",\n",
    "    \"NO. OF YEARS OF DATA\":\"# of Data Years\"\n",
    "})"
   ]
  },
  {
   "cell_type": "code",
   "execution_count": null,
   "metadata": {},
   "outputs": [],
   "source": [
    "#check the datatypes\n",
    "sunshine_df.dtypes"
   ]
  },
  {
   "cell_type": "code",
   "execution_count": null,
   "metadata": {},
   "outputs": [],
   "source": [
    "#strip the % column of the % symbol and convert to float\n",
    "sunshine_df[\"Annual % Average Possible Sunshine\"] = sunshine_df[\"Annual % Average Possible Sunshine\"].map(lambda x: x.rstrip('%'))\n",
    "sunshine_df[\"Annual % Average Possible Sunshine\"] = sunshine_df[\"Annual % Average Possible Sunshine\"].astype(float)\n",
    "sunshine_df"
   ]
  },
  {
   "cell_type": "code",
   "execution_count": null,
   "metadata": {},
   "outputs": [],
   "source": [
    "#credit to: https://code.activestate.com/recipes/577305-python-dictionary-of-us-states-and-territories/\n",
    "#added in some territories mannually to this dictionary\n",
    "#dictionary of state abbreviations:\n",
    "states_dict = {\n",
    "        'AK': 'Alaska',\n",
    "        'AL': 'Alabama',\n",
    "        'AR': 'Arkansas',\n",
    "        'AS': 'American Samoa',\n",
    "        'AZ': 'Arizona',\n",
    "        'CA': 'California',\n",
    "        'CO': 'Colorado',\n",
    "        'CT': 'Connecticut',\n",
    "        'DC': 'District of Columbia',\n",
    "        'DE': 'Delaware',\n",
    "        'FL': 'Florida',\n",
    "        'FM': 'Federal States of Micronesia',\n",
    "        'GA': 'Georgia',\n",
    "        'GU': 'Guam',\n",
    "        'HI': 'Hawaii',\n",
    "        'IA': 'Iowa',\n",
    "        'ID': 'Idaho',\n",
    "        'IL': 'Illinois',\n",
    "        'IN': 'Indiana',\n",
    "        'KS': 'Kansas',\n",
    "        'KY': 'Kentucky',\n",
    "        'LA': 'Louisiana',\n",
    "        'MA': 'Massachusetts',\n",
    "        'MD': 'Maryland',\n",
    "        'ME': 'Maine',\n",
    "        'MH': 'Marshall Islands',\n",
    "        'MI': 'Michigan',\n",
    "        'MN': 'Minnesota',\n",
    "        'MO': 'Missouri',\n",
    "        'MP': 'Northern Mariana Islands',\n",
    "        'MS': 'Mississippi',\n",
    "        'MT': 'Montana',\n",
    "        'NA': 'National',\n",
    "        'NC': 'North Carolina',\n",
    "        'ND': 'North Dakota',\n",
    "        'NE': 'Nebraska',\n",
    "        'NH': 'New Hampshire',\n",
    "        'NJ': 'New Jersey',\n",
    "        'NM': 'New Mexico',\n",
    "        'NV': 'Nevada',\n",
    "        'NY': 'New York',\n",
    "        'OH': 'Ohio',\n",
    "        'OK': 'Oklahoma',\n",
    "        'OR': 'Oregon',\n",
    "        'PA': 'Pennsylvania',\n",
    "        'PR': 'Puerto Rico',\n",
    "        'PW': 'Palau',\n",
    "        'RI': 'Rhode Island',\n",
    "        'SC': 'South Carolina',\n",
    "        'SD': 'South Dakota',\n",
    "        'TN': 'Tennessee',\n",
    "        'TX': 'Texas',\n",
    "        'UT': 'Utah',\n",
    "        'VA': 'Virginia',\n",
    "        'VI': 'Virgin Islands',\n",
    "        'VT': 'Vermont',\n",
    "        'WA': 'Washington',\n",
    "        'WI': 'Wisconsin',\n",
    "        'WV': 'West Virginia',\n",
    "        'WY': 'Wyoming'\n",
    "}"
   ]
  },
  {
   "cell_type": "code",
   "execution_count": null,
   "metadata": {},
   "outputs": [],
   "source": [
    "state=[]\n",
    "for row in range(len(sunshine_df)):\n",
    "    try:\n",
    "        state.append(states_dict[sunshine_df['State'][row]])\n",
    "    except:\n",
    "        state.append(sunshine_df['State'][row])\n",
    "\n",
    "cleanSunshine_df = sunshine_df.copy()\n",
    "cleanSunshine_df[\"State\"]=state\n",
    "cleanSunshine_df"
   ]
  },
  {
   "cell_type": "code",
   "execution_count": null,
   "metadata": {},
   "outputs": [],
   "source": [
    "#clean the casing of cities\n",
    "cities = cleanSunshine_df['City']\n",
    "cities = cities.str.title()\n",
    "cleanSunshine_df['City']=cities\n",
    "cleanSunshine_df"
   ]
  },
  {
   "cell_type": "code",
   "execution_count": null,
   "metadata": {
    "scrolled": true
   },
   "outputs": [],
   "source": [
    "#google maps geocoding url\n",
    "url_geocoding = \"https://maps.googleapis.com/maps/api/geocode/json?\"\n",
    "\n",
    "#find the latitude and longitude of the cities\n",
    "lat = []\n",
    "lng = []\n",
    "\n",
    "#define countrycode\n",
    "currentCountry = \"US\"\n",
    "\n",
    "#loop through the cities_df to retrieve the weather information\n",
    "for index, row in cleanSunshine_df.iterrows():\n",
    "    currentCity = row[\"City\"]\n",
    "    currentState = row[\"State\"]\n",
    "    target_url = f\"{url_geocoding}address={currentCity},{currentState}&region={currentCountry}&key={gkey}\"\n",
    "    response = requests.get(target_url).json()\n",
    "    \n",
    "    try:\n",
    "        lat.append(response['results'][0]['geometry']['location']['lat'])\n",
    "        lng.append(response['results'][0]['geometry']['location']['lng'])\n",
    "        print(f\"Processeing Record | {currentCity}\")\n",
    "    except:\n",
    "        lat.append(np.nan)\n",
    "        lng.append(np.nan)\n",
    "        print(f\"City not found. Skipping {currentCity}...\")\n",
    "\n",
    "#update latitude and longitude to actually match the city\n",
    "cleanSunshine_df[\"Latitude\"] = lat\n",
    "cleanSunshine_df[\"Longitude\"] = lng"
   ]
  },
  {
   "cell_type": "code",
   "execution_count": null,
   "metadata": {},
   "outputs": [],
   "source": [
    "#export results to csv file\n",
    "cleanSunshine_df.to_csv(os.path.join(outputFilePath,\"cleanSunshine.csv\"),index=False)\n",
    "\n",
    "cleanSunshine_df"
   ]
  },
  {
   "cell_type": "code",
   "execution_count": null,
   "metadata": {},
   "outputs": [],
   "source": [
    "#clean the data set of null values\n",
    "sunshineLocations_df = cleanSunshine_df.dropna().reset_index(drop=True)\n",
    "sunshineLocations_df"
   ]
  },
  {
   "cell_type": "code",
   "execution_count": null,
   "metadata": {},
   "outputs": [],
   "source": [
    "#collect the weightsof %\n",
    "sunshine = sunshineLocations_df[\"Annual % Average Possible Sunshine\"].astype(float)\n",
    "\n",
    "#max of % sunshine\n",
    "maxSun = sunshineLocations_df[\"Annual % Average Possible Sunshine\"].max()\n",
    "\n",
    "#locations of sun for heat\n",
    "locations = sunshineLocations_df[[\"Latitude\",\"Longitude\"]].astype(float)"
   ]
  },
  {
   "cell_type": "code",
   "execution_count": null,
   "metadata": {},
   "outputs": [],
   "source": [
    "#create the sunshine map\n",
    "fig = gmaps.figure()\n",
    "\n",
    "#create the heat layer\n",
    "heatLayer_sunshine = gmaps.heatmap_layer(locations, weights=sunshine, max_intensity=maxSun, dissipating=True)\n",
    "\n",
    "#add the heat layer\n",
    "fig.add_layer(heatLayer_sunshine)\n",
    "\n",
    "#display the figure\n",
    "fig"
   ]
  },
  {
   "cell_type": "code",
   "execution_count": null,
   "metadata": {},
   "outputs": [],
   "source": [
    "#find locations with sun >= 70%\n",
    "topSunshine_df = sunshineLocations_df.loc[(sunshineLocations_df[\"Annual % Average Possible Sunshine\"]>=70)]\n",
    "topSunshine_df"
   ]
  },
  {
   "cell_type": "code",
   "execution_count": null,
   "metadata": {},
   "outputs": [],
   "source": [
    "#DO NOT CHANGE CODE IN THIS CELL\n",
    "\n",
    "#using the infobox template\n",
    "info_box_template = \"\"\"\n",
    "<dl>\n",
    "<dt>State</dt><dd>{State}</dd>\n",
    "<dt>City</dt><dd>{City}</dd>\n",
    "<dt>% Sunshine</dt><dd>{Annual % Average Possible Sunshine}</dd>\n",
    "</dl>\n",
    "\"\"\"\n",
    "\n",
    "#Store the dataframe row\n",
    "#update with names of dataframe\n",
    "sunshine_info = [info_box_template.format(**row) for index, row in topSunshine_df.iterrows()]\n",
    "markerLocations = topSunshine_df[['Latitude','Longitude']]"
   ]
  },
  {
   "cell_type": "code",
   "execution_count": null,
   "metadata": {},
   "outputs": [],
   "source": [
    "#add marker layer onto heatmap\n",
    "markers = gmaps.marker_layer(markerLocations,info_box_content=sunshine_info)\n",
    "fig.add_layer(markers)\n",
    "\n",
    "#display figure\n",
    "fig"
   ]
  },
  {
   "cell_type": "code",
   "execution_count": null,
   "metadata": {},
   "outputs": [],
   "source": []
  }
 ],
 "metadata": {
  "kernelspec": {
   "display_name": "Python 3",
   "language": "python",
   "name": "python3"
  },
  "language_info": {
   "codemirror_mode": {
    "name": "ipython",
    "version": 3
   },
   "file_extension": ".py",
   "mimetype": "text/x-python",
   "name": "python",
   "nbconvert_exporter": "python",
   "pygments_lexer": "ipython3",
   "version": "3.8.5"
  }
 },
 "nbformat": 4,
 "nbformat_minor": 4
}

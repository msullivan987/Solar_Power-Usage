{
 "cells": [
  {
   "cell_type": "code",
   "execution_count": 1,
   "metadata": {},
   "outputs": [],
   "source": [
    "import pandas as pd\n",
    "import os"
   ]
  },
  {
   "cell_type": "code",
   "execution_count": 2,
   "metadata": {},
   "outputs": [],
   "source": [
    "csv_path = \"1990-2019_annual_GENERATION_state.csv\""
   ]
  },
  {
   "cell_type": "code",
   "execution_count": 12,
   "metadata": {},
   "outputs": [],
   "source": [
    "df = pd.read_csv(csv_path,header=None)\n",
    "df = df.rename(columns=df.iloc[1])\n",
    "df.columns\n",
    "df = df[[\"YEAR\",\"STATE\",\"TYPE OF PRODUCER\",\"ENERGY SOURCE\",\"GENERATION (Megawatthours)\"]]\n",
    "df = df.drop(df.index[[0,1]])"
   ]
  },
  {
   "cell_type": "code",
   "execution_count": 13,
   "metadata": {},
   "outputs": [
    {
     "data": {
      "text/html": [
       "<div>\n",
       "<style scoped>\n",
       "    .dataframe tbody tr th:only-of-type {\n",
       "        vertical-align: middle;\n",
       "    }\n",
       "\n",
       "    .dataframe tbody tr th {\n",
       "        vertical-align: top;\n",
       "    }\n",
       "\n",
       "    .dataframe thead th {\n",
       "        text-align: right;\n",
       "    }\n",
       "</style>\n",
       "<table border=\"1\" class=\"dataframe\">\n",
       "  <thead>\n",
       "    <tr style=\"text-align: right;\">\n",
       "      <th></th>\n",
       "      <th>YEAR</th>\n",
       "      <th>STATE</th>\n",
       "      <th>TYPE OF PRODUCER</th>\n",
       "      <th>ENERGY SOURCE</th>\n",
       "      <th>GENERATION (Megawatthours)</th>\n",
       "    </tr>\n",
       "  </thead>\n",
       "  <tbody>\n",
       "    <tr>\n",
       "      <th>2</th>\n",
       "      <td>1990</td>\n",
       "      <td>AK</td>\n",
       "      <td>Total Electric Power Industry</td>\n",
       "      <td>Total</td>\n",
       "      <td>5,599,506</td>\n",
       "    </tr>\n",
       "    <tr>\n",
       "      <th>3</th>\n",
       "      <td>1990</td>\n",
       "      <td>AK</td>\n",
       "      <td>Total Electric Power Industry</td>\n",
       "      <td>Coal</td>\n",
       "      <td>510,573</td>\n",
       "    </tr>\n",
       "    <tr>\n",
       "      <th>4</th>\n",
       "      <td>1990</td>\n",
       "      <td>AK</td>\n",
       "      <td>Total Electric Power Industry</td>\n",
       "      <td>Hydroelectric Conventional</td>\n",
       "      <td>974,521</td>\n",
       "    </tr>\n",
       "    <tr>\n",
       "      <th>5</th>\n",
       "      <td>1990</td>\n",
       "      <td>AK</td>\n",
       "      <td>Total Electric Power Industry</td>\n",
       "      <td>Natural Gas</td>\n",
       "      <td>3,466,261</td>\n",
       "    </tr>\n",
       "    <tr>\n",
       "      <th>6</th>\n",
       "      <td>1990</td>\n",
       "      <td>AK</td>\n",
       "      <td>Total Electric Power Industry</td>\n",
       "      <td>Petroleum</td>\n",
       "      <td>497,116</td>\n",
       "    </tr>\n",
       "  </tbody>\n",
       "</table>\n",
       "</div>"
      ],
      "text/plain": [
       "   YEAR STATE               TYPE OF PRODUCER               ENERGY SOURCE  \\\n",
       "2  1990    AK  Total Electric Power Industry                       Total   \n",
       "3  1990    AK  Total Electric Power Industry                        Coal   \n",
       "4  1990    AK  Total Electric Power Industry  Hydroelectric Conventional   \n",
       "5  1990    AK  Total Electric Power Industry                 Natural Gas   \n",
       "6  1990    AK  Total Electric Power Industry                   Petroleum   \n",
       "\n",
       "  GENERATION (Megawatthours)  \n",
       "2                  5,599,506  \n",
       "3                    510,573  \n",
       "4                    974,521  \n",
       "5                  3,466,261  \n",
       "6                    497,116  "
      ]
     },
     "execution_count": 13,
     "metadata": {},
     "output_type": "execute_result"
    }
   ],
   "source": [
    "df.head()"
   ]
  },
  {
   "cell_type": "code",
   "execution_count": null,
   "metadata": {},
   "outputs": [],
   "source": []
  }
 ],
 "metadata": {
  "kernelspec": {
   "display_name": "Python 3",
   "language": "python",
   "name": "python3"
  },
  "language_info": {
   "codemirror_mode": {
    "name": "ipython",
    "version": 3
   },
   "file_extension": ".py",
   "mimetype": "text/x-python",
   "name": "python",
   "nbconvert_exporter": "python",
   "pygments_lexer": "ipython3",
   "version": "3.6.10"
  }
 },
 "nbformat": 4,
 "nbformat_minor": 4
}

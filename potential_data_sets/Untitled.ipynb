{
 "cells": [
  {
   "cell_type": "code",
   "execution_count": 1,
   "metadata": {},
   "outputs": [],
   "source": [
    "import pandas as pd\n",
    "import os"
   ]
  },
  {
   "cell_type": "code",
   "execution_count": 2,
   "metadata": {},
   "outputs": [],
   "source": [
    "csv_path = \"1990-2019_annual_GENERATION_state.xls\""
   ]
  },
  {
   "cell_type": "code",
   "execution_count": 11,
   "metadata": {},
   "outputs": [
    {
     "name": "stderr",
     "output_type": "stream",
     "text": [
      "C:\\Users\\Michelle\\anaconda3\\envs\\pythondata\\lib\\site-packages\\ipykernel_launcher.py:1: ParserWarning: Falling back to the 'python' engine because the 'c' engine does not support regex separators (separators > 1 char and different from '\\s+' are interpreted as regex); you can avoid this warning by specifying engine='python'.\n",
      "  \"\"\"Entry point for launching an IPython kernel.\n"
     ]
    }
   ],
   "source": [
    "df = pd.read_csv(csv_path, encoding = \"ISO-8859-1\", header=None,sep='delimiter')"
   ]
  },
  {
   "cell_type": "code",
   "execution_count": 12,
   "metadata": {},
   "outputs": [
    {
     "data": {
      "text/html": [
       "<div>\n",
       "<style scoped>\n",
       "    .dataframe tbody tr th:only-of-type {\n",
       "        vertical-align: middle;\n",
       "    }\n",
       "\n",
       "    .dataframe tbody tr th {\n",
       "        vertical-align: top;\n",
       "    }\n",
       "\n",
       "    .dataframe thead th {\n",
       "        text-align: right;\n",
       "    }\n",
       "</style>\n",
       "<table border=\"1\" class=\"dataframe\">\n",
       "  <thead>\n",
       "    <tr style=\"text-align: right;\">\n",
       "      <th></th>\n",
       "      <th>0</th>\n",
       "    </tr>\n",
       "  </thead>\n",
       "  <tbody>\n",
       "    <tr>\n",
       "      <th>0</th>\n",
       "      <td>ÐÏ\u0011à¡±\u001aá\u0000\u0000\u0000\u0000\u0000\u0000\u0000\u0000\u0000\u0000\u0000\u0000\u0000\u0000\u0000\u0000&gt;\u0000\u0003\u0000þÿ\\t\u0000\u0006\u0000\u0000\u0000\u0000\u0000\u0000\u0000\u0000\u0000\u0000\u0000[...</td>\n",
       "    </tr>\n",
       "    <tr>\n",
       "      <th>1</th>\n",
       "      <td>\u0001M\u0000S\u0000 \u0000S\u0000a\u0000n\u0000s\u0000 \u0000S\u0000e\u0000r\u0000i\u0000f\u00001\u0000\u001e",
       "\u0000Ü\u0000\u0000\u0000\b\u0000\u0001\u0000\u0000\u0000\u0002\u0000\u0007...</td>\n",
       "    </tr>\n",
       "    <tr>\n",
       "      <th>2</th>\n",
       "      <td>\u0001M\u0000S\u0000 \u0000S\u0000a\u0000n\u0000s\u0000 \u0000S\u0000e\u0000r\u0000i\u0000f\u00001\u0000\u001e",
       "\u0000Ü\u0000\u0000\u0000\b\u0000\u0001\u0000\u0000\u0000\u0002\u0000\u0001\u0007...</td>\n",
       "    </tr>\n",
       "    <tr>\n",
       "      <th>3</th>\n",
       "      <td>\u0000\u0001\u0000\u0000\u0000\u0002\u0000\u0001\u0007\u0001C\u0000a\u0000l\u0000i\u0000b\u0000r\u0000i\u0000\u001e",
       "\u0004\u001c",
       "\u0000\u0005\u0000\u0017\u0000\u0000\"$\"#,##0_);\\...</td>\n",
       "    </tr>\n",
       "    <tr>\n",
       "      <th>4</th>\n",
       "      <td>\u0000\u0000\u0000õÿ \u0000\u0000´\u0000\u0000\u0000\u0000\u0000\u0000\u0000\u0004 à\u0000\u0014\u0000</td>\n",
       "    </tr>\n",
       "  </tbody>\n",
       "</table>\n",
       "</div>"
      ],
      "text/plain": [
       "                                                   0\n",
       "0  ÐÏ\u0011à¡±\u001aá\u0000\u0000\u0000\u0000\u0000\u0000\u0000\u0000\u0000\u0000\u0000\u0000\u0000\u0000\u0000\u0000>\u0000\u0003\u0000þÿ\\t\u0000\u0006\u0000\u0000\u0000\u0000\u0000\u0000\u0000\u0000\u0000\u0000\u0000[...\n",
       "1  \u0001M\u0000S\u0000 \u0000S\u0000a\u0000n\u0000s\u0000 \u0000S\u0000e\u0000r\u0000i\u0000f\u00001\u0000\n",
       "\u0000Ü\u0000\u0000\u0000\b\u0000\u0001\u0000\u0000\u0000\u0002\u0000\u0007...\n",
       "2  \u0001M\u0000S\u0000 \u0000S\u0000a\u0000n\u0000s\u0000 \u0000S\u0000e\u0000r\u0000i\u0000f\u00001\u0000\n",
       "\u0000Ü\u0000\u0000\u0000\b\u0000\u0001\u0000\u0000\u0000\u0002\u0000\u0001\u0007...\n",
       "3  \u0000\u0001\u0000\u0000\u0000\u0002\u0000\u0001\u0007\u0001C\u0000a\u0000l\u0000i\u0000b\u0000r\u0000i\u0000\n",
       "\u0004\n",
       "\u0000\u0005\u0000\u0017\u0000\u0000\"$\"#,##0_);\\...\n",
       "4                            \u0000\u0000\u0000õÿ \u0000\u0000´\u0000\u0000\u0000\u0000\u0000\u0000\u0000\u0004 à\u0000\u0014\u0000"
      ]
     },
     "execution_count": 12,
     "metadata": {},
     "output_type": "execute_result"
    }
   ],
   "source": [
    "df.head()"
   ]
  },
  {
   "cell_type": "code",
   "execution_count": null,
   "metadata": {},
   "outputs": [],
   "source": []
  }
 ],
 "metadata": {
  "kernelspec": {
   "display_name": "Python 3",
   "language": "python",
   "name": "python3"
  },
  "language_info": {
   "codemirror_mode": {
    "name": "ipython",
    "version": 3
   },
   "file_extension": ".py",
   "mimetype": "text/x-python",
   "name": "python",
   "nbconvert_exporter": "python",
   "pygments_lexer": "ipython3",
   "version": "3.6.10"
  }
 },
 "nbformat": 4,
 "nbformat_minor": 4
}
